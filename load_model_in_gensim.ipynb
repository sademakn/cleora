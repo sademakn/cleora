{
 "metadata": {
  "language_info": {
   "codemirror_mode": {
    "name": "ipython",
    "version": 3
   },
   "file_extension": ".py",
   "mimetype": "text/x-python",
   "name": "python",
   "nbconvert_exporter": "python",
   "pygments_lexer": "ipython3",
   "version": "3.8.8"
  },
  "orig_nbformat": 2,
  "kernelspec": {
   "name": "python388jvsc74a57bd0539f6f41aa60b869c2d42604c1bc23d851feef35f4c879e8fafe5deccd506d30",
   "display_name": "Python 3.8.8 64-bit ('anaconda3': virtualenv)"
  }
 },
 "nbformat": 4,
 "nbformat_minor": 2,
 "cells": [
  {
   "cell_type": "code",
   "execution_count": null,
   "metadata": {},
   "outputs": [],
   "source": [
    "!pip install -U gensim"
   ]
  },
  {
   "cell_type": "code",
   "execution_count": 1,
   "metadata": {},
   "outputs": [],
   "source": [
    "# trained the model on files/samples/edgelist_1.tsv and the file bellow has been created\n",
    "trained_model_by_cleora = \"just_a_test__a__a.out\""
   ]
  },
  {
   "cell_type": "code",
   "execution_count": 2,
   "metadata": {},
   "outputs": [],
   "source": [
    "# the counts from embeddings and write the model into a new file\n",
    "with open(trained_model_by_cleora) as fr, open(\"w2v.txt\", \"w\") as fw:\n",
    "    fw.write(fr.readline())\n",
    "    for line in fr:\n",
    "        word, _, emb = line.partition(\" \")\n",
    "        _, _, emb = emb.partition(\" \")\n",
    "        fw.write(f\"{word} {emb}\")\n",
    "\n"
   ]
  },
  {
   "cell_type": "code",
   "execution_count": 3,
   "metadata": {},
   "outputs": [
    {
     "output_type": "execute_result",
     "data": {
      "text/plain": [
       "[('ba', 0.9991821050643921),\n",
       " ('a', 0.9959042072296143),\n",
       " ('aa', 0.9955483078956604),\n",
       " ('ab', 0.9898967742919922),\n",
       " ('bca', 0.984011173248291)]"
      ]
     },
     "metadata": {},
     "execution_count": 3
    }
   ],
   "source": [
    "# load the model in gensim \n",
    "from gensim.models.keyedvectors import load_word2vec_format\n",
    "model = load_word2vec_format(\"w2v.txt\")\n",
    "\n",
    "# find the most similar item to bac \n",
    "model.most_similar(\"bac\")\n"
   ]
  },
  {
   "cell_type": "code",
   "execution_count": null,
   "metadata": {},
   "outputs": [],
   "source": []
  }
 ]
}